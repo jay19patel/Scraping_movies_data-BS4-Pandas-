{
 "cells": [
  {
   "cell_type": "code",
   "execution_count": 258,
   "id": "75d031c1",
   "metadata": {},
   "outputs": [],
   "source": [
    "import requests\n",
    "from bs4 import BeautifulSoup\n",
    "\n",
    "url = \"https://www.primevideo.com/categories/ref=atv_hm_pri_c_9zZ8D2_1_3\"\n",
    "page = requests.get(url)\n",
    "\n",
    "soup = BeautifulSoup(page.content, \"html.parser\")\n"
   ]
  },
  {
   "cell_type": "markdown",
   "id": "61fde581",
   "metadata": {},
   "source": [
    "# Get category (Genres)"
   ]
  },
  {
   "cell_type": "code",
   "execution_count": 260,
   "id": "4a485dc3",
   "metadata": {},
   "outputs": [
    {
     "name": "stdout",
     "output_type": "stream",
     "text": [
      "Action and adventure\n",
      "Anime\n",
      "Comedy\n",
      "Documentary\n",
      "Drama\n",
      "Fantasy\n",
      "Horror\n",
      "International\n",
      "Kids\n",
      "Music videos and concerts\n",
      "Mystery and thrillers\n",
      "Romance\n",
      "Hindi\n",
      "English\n",
      "Telugu\n",
      "Tamil\n",
      "Malayalam\n",
      "Kannada\n",
      "Marathi\n",
      "Punjabi\n",
      "Gujarati\n",
      "Bengali\n"
     ]
    }
   ],
   "source": [
    "#_9qXVlg gg1gAB rnNSvV \n",
    "Category = []\n",
    "movies = soup.find_all(\"h3\", class_=\"bUIMWe\")\n",
    "for movie in movies:\n",
    "    #print(movie.find_all(\"span\", class_=\"_9qXVlg gg1gAB rnNSvV\"))\n",
    "    category = movie.find('span',{'class':'_9qXVlg gg1gAB rnNSvV'}).text\n",
    "    print(category)\n",
    "    Category.append(category)\n"
   ]
  },
  {
   "cell_type": "markdown",
   "id": "8880672a",
   "metadata": {},
   "source": [
    "#  Get Category website links"
   ]
  },
  {
   "cell_type": "code",
   "execution_count": 257,
   "id": "b61b1c5b",
   "metadata": {},
   "outputs": [
    {
     "name": "stdout",
     "output_type": "stream",
     "text": [
      "https://www.primevideo.com//genre/anime/ref=atv_ge_all_c_YyAsEb_1_2\n"
     ]
    }
   ],
   "source": [
    "#https://www.primevideo.com/\n",
    "links = movie.find(\"a\", {\"aria-label\": \"Anime\"})\n",
    "print(f\"https://www.primevideo.com/{a_tag['href']}\")\n"
   ]
  },
  {
   "cell_type": "code",
   "execution_count": null,
   "id": "7b4c5d8c",
   "metadata": {},
   "outputs": [],
   "source": [
    "Category_links = []\n",
    "for i in Category:\n",
    "    for link in soup.find_all(\"a\", {\"aria-label\": i}):\n",
    "        Category_links.append(f\"https://www.primevideo.com{link.get('href')}\")\n",
    "        "
   ]
  },
  {
   "cell_type": "code",
   "execution_count": null,
   "id": "e74f4dbf",
   "metadata": {},
   "outputs": [],
   "source": [
    "web_page = requests.get(\"https://www.primevideo.com/genre/action/ref=atv_ge_all_c_YyAsEb_1_1\")"
   ]
  },
  {
   "cell_type": "code",
   "execution_count": null,
   "id": "673ac54f",
   "metadata": {},
   "outputs": [],
   "source": [
    " #Get Movie Detail but baki \n",
    "#https://www.primevideo.com/browse/ref=atv_ge_aga_c_vqhlwi_1_smr?serviceToken=eyJ0eXBlIjoicXVlcnkiLCJuYXYiOnRydWUsInBpIjoiZGVmYXVsdCIsInNlYyI6ImNlbnRlciIsInN0eXBlIjoic2VhcmNoIiwicXJ5IjoicF9uX2VudGl0eV90eXBlPU1vdmllJmZpZWxkLWdlbnJlLWJpbj1hdl9nZW5yZV9hY3Rpb24maW5kZXg9ZXUtYW1hem9uLXZpZGVvLW90aGVyJmFkdWx0LXByb2R1Y3Q9MCZzZWFyY2gtYWxpYXM9aW5zdGFudC12aWRlbyZwdl9vZmZlcnM9SU46SU46c3ZvZDpwcmltZTp2b2Q6LTE2ODEyNzk4MDA6MTY4MTI3OTgwMC0mcXMtYXZfcmVxdWVzdF90eXBlPTQmcXMtaXMtcHJpbWUtY3VzdG9tZXI9MCIsInJ0IjoidlFITHdpc21yIiwidHh0IjoiUHJpbWUgbW92aWVzIiwib2Zmc2V0IjowLCJucHNpIjowLCJvcmVxIjoiOGM1N2MxNzYtY2ZkYy00YWE0LTljM2EtNmJiMmIxNDdkYzdiOjE2ODEyNzk5MjMwMDAiLCJzdHJpZCI6IjE6MVBNR1I0MjFIM05LMSMjTVpRV0daTFVNVlNFR1lMU041MlhHWkxNIiwib3JlcWsiOiJqc0RqMFFsMHpyV0JZRFR5SHE4UG5EcW1HN2ZySmkzNXJ4ekV6REV6aXJJPSIsIm9yZXFrdiI6MX0%3D\n"
   ]
  },
  {
   "cell_type": "code",
   "execution_count": null,
   "id": "bbe27cb4",
   "metadata": {},
   "outputs": [],
   "source": [
    "web_page = requests.get('https://www.primevideo.com/browse/ref=atv_ge_aga_c_vqhlwi_1_smr?serviceToken=eyJ0eXBlIjoicXVlcnkiLCJuYXYiOnRydWUsInBpIjoiZGVmYXVsdCIsInNlYyI6ImNlbnRlciIsInN0eXBlIjoic2VhcmNoIiwicXJ5IjoicF9uX2VudGl0eV90eXBlPU1vdmllJmZpZWxkLWdlbnJlLWJpbj1hdl9nZW5yZV9hY3Rpb24maW5kZXg9ZXUtYW1hem9uLXZpZGVvLW90aGVyJmFkdWx0LXByb2R1Y3Q9MCZzZWFyY2gtYWxpYXM9aW5zdGFudC12aWRlbyZwdl9vZmZlcnM9SU46SU46c3ZvZDpwcmltZTp2b2Q6LTE2ODEyNzk4MDA6MTY4MTI3OTgwMC0mcXMtYXZfcmVxdWVzdF90eXBlPTQmcXMtaXMtcHJpbWUtY3VzdG9tZXI9MCIsInJ0IjoidlFITHdpc21yIiwidHh0IjoiUHJpbWUgbW92aWVzIiwib2Zmc2V0IjowLCJucHNpIjowLCJvcmVxIjoiOGM1N2MxNzYtY2ZkYy00YWE0LTljM2EtNmJiMmIxNDdkYzdiOjE2ODEyNzk5MjMwMDAiLCJzdHJpZCI6IjE6MVBNR1I0MjFIM05LMSMjTVpRV0daTFVNVlNFR1lMU041MlhHWkxNIiwib3JlcWsiOiJqc0RqMFFsMHpyV0JZRFR5SHE4UG5EcW1HN2ZySmkzNXJ4ekV6REV6aXJJPSIsIm9yZXFrdiI6MX0%3D')"
   ]
  },
  {
   "cell_type": "code",
   "execution_count": null,
   "id": "25c92156",
   "metadata": {},
   "outputs": [],
   "source": [
    "web_page_soup = BeautifulSoup(web_page.content, \"html.parser\")\n",
    "import time\n",
    "time.sleep(5)"
   ]
  },
  {
   "cell_type": "code",
   "execution_count": null,
   "id": "52884397",
   "metadata": {},
   "outputs": [],
   "source": [
    "list_of_movies = web_page_soup.find_all('a',{'class':'_3HZFFn'})"
   ]
  },
  {
   "cell_type": "code",
   "execution_count": null,
   "id": "751d3034",
   "metadata": {},
   "outputs": [],
   "source": [
    "\n",
    "for one_movie in list_of_movies:\n",
    "    one_movie_link = one_movie.get('href')\n",
    "    print(f\"https://www.primevideo.com/{one_movie_link}\")"
   ]
  },
  {
   "cell_type": "code",
   "execution_count": null,
   "id": "08fe9f85",
   "metadata": {},
   "outputs": [],
   "source": []
  }
 ],
 "metadata": {
  "kernelspec": {
   "display_name": "Python 3 (ipykernel)",
   "language": "python",
   "name": "python3"
  },
  "language_info": {
   "codemirror_mode": {
    "name": "ipython",
    "version": 3
   },
   "file_extension": ".py",
   "mimetype": "text/x-python",
   "name": "python",
   "nbconvert_exporter": "python",
   "pygments_lexer": "ipython3",
   "version": "3.11.2"
  }
 },
 "nbformat": 4,
 "nbformat_minor": 5
}
