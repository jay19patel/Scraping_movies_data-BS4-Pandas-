{
 "cells": [
  {
   "cell_type": "code",
   "execution_count": 268,
   "id": "bd25d842",
   "metadata": {},
   "outputs": [],
   "source": [
    "import requests\n",
    "from bs4 import BeautifulSoup\n",
    "import time"
   ]
  },
  {
   "cell_type": "code",
   "execution_count": 269,
   "id": "46da757c",
   "metadata": {},
   "outputs": [],
   "source": [
    "url = \"https://www.primevideo.com/categories/ref=atv_hm_pri_c_9zZ8D2_1_3\"\n",
    "page = requests.get(url)\n",
    "soup = BeautifulSoup(page.content, \"html.parser\")"
   ]
  },
  {
   "cell_type": "markdown",
   "id": "35962ec1",
   "metadata": {},
   "source": [
    "## Get Category "
   ]
  },
  {
   "cell_type": "code",
   "execution_count": 270,
   "id": "7174f64e",
   "metadata": {},
   "outputs": [],
   "source": [
    "def get_Categorys():\n",
    "    Category = []\n",
    "    movies = soup.find_all(\"h3\", class_=\"bUIMWe\")\n",
    "    for movie in movies:\n",
    "        category = movie.find('span',{'class':'_9qXVlg gg1gAB rnNSvV'}).text\n",
    "        Category.append(category)\n",
    "    #print(Category)\n",
    "    return Category\n"
   ]
  },
  {
   "cell_type": "code",
   "execution_count": 271,
   "id": "cd5124af",
   "metadata": {},
   "outputs": [],
   "source": [
    "def main_page_url(url):\n",
    "    page = requests.get(url)\n",
    "    soup = BeautifulSoup(page.content, \"html.parser\")\n",
    "    page_url = soup.find('a',{'aria-label':'See more'})['href']\n",
    "    return page_url\n"
   ]
  },
  {
   "cell_type": "markdown",
   "id": "826097ec",
   "metadata": {},
   "source": [
    "# Get cat Page"
   ]
  },
  {
   "cell_type": "code",
   "execution_count": 272,
   "id": "4fc007d9",
   "metadata": {},
   "outputs": [],
   "source": [
    "#https://www.primevideo.com/\n",
    "def get_categorys_page():\n",
    "    #Category = [\"Action and adventure\",\"Anime\"]\n",
    "    Category = get_Categorys()\n",
    "    category_page_list = []\n",
    "    for i in Category:\n",
    "        for link in soup.find_all(\"a\", {\"aria-label\": i}):\n",
    "            myurl = f\"https://www.primevideo.com{link.get('href')}\"\n",
    "            main_link = main_page_url(myurl)\n",
    "            #print(i)\n",
    "            category_page = f\"https://www.primevideo.com{main_link}\"\n",
    "            category_page_list.append(category_page)\n",
    "    return category_page_list"
   ]
  },
  {
   "cell_type": "code",
   "execution_count": 273,
   "id": "5f3fed42",
   "metadata": {},
   "outputs": [],
   "source": [
    "#get_categorys_page() # link avse "
   ]
  },
  {
   "cell_type": "code",
   "execution_count": 274,
   "id": "39b962cc",
   "metadata": {},
   "outputs": [],
   "source": [
    "#https://www.primevideo.com/detail/0GUKC2JE1MEJPV5S5LU2BQ2WVB/ref=atv_br_def_r_br_c_unkc_1_1\n",
    "\n",
    "#https://www.primevideo.com/browse/ref=atv_ge_aga_c_vqhlwi_1_smr?serviceToken=eyJ0eXBlIjoicXVlcnkiLCJuYXYiOnRydWUsInBpIjoiZGVmYXVsdCIsInNlYyI6ImNlbnRlciIsInN0eXBlIjoic2VhcmNoIiwicXJ5IjoicF9uX2VudGl0eV90eXBlPU1vdmllJmZpZWxkLWdlbnJlLWJpbj1hdl9nZW5yZV9hY3Rpb24maW5kZXg9ZXUtYW1hem9uLXZpZGVvLW90aGVyJmFkdWx0LXByb2R1Y3Q9MCZzZWFyY2gtYWxpYXM9aW5zdGFudC12aWRlbyZwdl9vZmZlcnM9SU46SU46c3ZvZDpwcmltZTp2b2Q6LTE2ODEyODQ2MDA6MTY4MTI4NDYwMC0mcXMtYXZfcmVxdWVzdF90eXBlPTQmcXMtaXMtcHJpbWUtY3VzdG9tZXI9MCIsInJ0IjoidlFITHdpc21yIiwidHh0IjoiUHJpbWUgbW92aWVzIiwib2Zmc2V0IjowLCJucHNpIjowLCJvcmVxIjoiZDY1ZmJlZDEtZDYyZC00MWE4LTk3YTctZDhlMTBmMTU4NGI3OjE2ODEyODQ5NTgwMDAiLCJzdHJpZCI6IjE6MVBNR1I0MjFIM05LMSMjTVpRV0daTFVNVlNFR1lMU041MlhHWkxNIiwib3JlcWsiOiJqc0RqMFFsMHpyV0JZRFR5SHE4UG5EcW1HN2ZySmkzNXJ4ekV6REV6aXJJPSIsIm9yZXFrdiI6MX0%3D"
   ]
  },
  {
   "cell_type": "markdown",
   "id": "ff28ab25",
   "metadata": {},
   "source": [
    "# Get All Movies Link and image from Home page"
   ]
  },
  {
   "cell_type": "code",
   "execution_count": 276,
   "id": "0d8544eb",
   "metadata": {},
   "outputs": [],
   "source": [
    "def get_movies_link(url_page):\n",
    "    page = requests.get(url_page)\n",
    "    soup = BeautifulSoup(page.content, \"html.parser\")\n",
    "    links = soup.find_all('article',{'class':'Z9dd1d'})\n",
    "    Movie_links_all = []\n",
    "    \n",
    "    for link in links:\n",
    "        link= link.find('a',{'class':'_3HZFFn'})['href']\n",
    "        all_links = f\"https://www.primevideo.com{link}\"\n",
    "        Movie_links_all.append(all_links)\n",
    "  \t\n",
    "    return Movie_links_all\n",
    "     # badhi movies ni link male home page par thi    "
   ]
  },
  {
   "cell_type": "code",
   "execution_count": 277,
   "id": "919cb30c",
   "metadata": {},
   "outputs": [],
   "source": [
    "#get_movies_link(\"https://www.primevideo.com/browse/ref=atv_ge_aga_c_vqhlwi_1_smr?serviceToken=eyJ0eXBlIjoicXVlcnkiLCJuYXYiOnRydWUsInBpIjoiZGVmYXVsdCIsInNlYyI6ImNlbnRlciIsInN0eXBlIjoic2VhcmNoIiwicXJ5IjoicF9uX2VudGl0eV90eXBlPU1vdmllJmZpZWxkLWdlbnJlLWJpbj1hdl9nZW5yZV9hY3Rpb24maW5kZXg9ZXUtYW1hem9uLXZpZGVvLW90aGVyJmFkdWx0LXByb2R1Y3Q9MCZzZWFyY2gtYWxpYXM9aW5zdGFudC12aWRlbyZwdl9vZmZlcnM9SU46SU46c3ZvZDpwcmltZTp2b2Q6LTE2ODEyODQ2MDA6MTY4MTI4NDYwMC0mcXMtYXZfcmVxdWVzdF90eXBlPTQmcXMtaXMtcHJpbWUtY3VzdG9tZXI9MCIsInJ0IjoidlFITHdpc21yIiwidHh0IjoiUHJpbWUgbW92aWVzIiwib2Zmc2V0IjowLCJucHNpIjowLCJvcmVxIjoiZDY1ZmJlZDEtZDYyZC00MWE4LTk3YTctZDhlMTBmMTU4NGI3OjE2ODEyODQ5NTgwMDAiLCJzdHJpZCI6IjE6MVBNR1I0MjFIM05LMSMjTVpRV0daTFVNVlNFR1lMU041MlhHWkxNIiwib3JlcWsiOiJqc0RqMFFsMHpyV0JZRFR5SHE4UG5EcW1HN2ZySmkzNXJ4ekV6REV6aXJJPSIsIm9yZXFrdiI6MX0%3D\")"
   ]
  },
  {
   "cell_type": "code",
   "execution_count": 278,
   "id": "1b5a8a86",
   "metadata": {},
   "outputs": [],
   "source": [
    "import csv\n",
    "import pandas as pd\n",
    "def Main_APP():\n",
    "    category_page = get_categorys_page()\n",
    "    all_movies_links = []\n",
    "    n=1\n",
    "    for megalink in category_page:#darek movies ni link malse \n",
    "        Movie_links_all = get_movies_link(megalink)\n",
    "        all_movies_links.append(Movie_links_all)\n",
    "        \n",
    "    return all_movies_links\n",
    "    \n"
   ]
  },
  {
   "cell_type": "code",
   "execution_count": 279,
   "id": "6134569f",
   "metadata": {},
   "outputs": [],
   "source": [
    "Datas_links = Main_APP()\n",
    "import pandas as pd \n",
    "\n",
    "df = pd.DataFrame(Datas_links)\n",
    "new_df = df.TS\n",
    "new_df.columns =get_Categorys()\n",
    "new_df.to_csv(\"main_links.csv\")"
   ]
  },
  {
   "cell_type": "code",
   "execution_count": null,
   "id": "5f8aca90",
   "metadata": {},
   "outputs": [],
   "source": []
  },
  {
   "cell_type": "code",
   "execution_count": null,
   "id": "feb9478e",
   "metadata": {},
   "outputs": [],
   "source": []
  }
 ],
 "metadata": {
  "kernelspec": {
   "display_name": "Python 3 (ipykernel)",
   "language": "python",
   "name": "python3"
  },
  "language_info": {
   "codemirror_mode": {
    "name": "ipython",
    "version": 3
   },
   "file_extension": ".py",
   "mimetype": "text/x-python",
   "name": "python",
   "nbconvert_exporter": "python",
   "pygments_lexer": "ipython3",
   "version": "3.11.2"
  }
 },
 "nbformat": 4,
 "nbformat_minor": 5
}
