{
 "cells": [
  {
   "cell_type": "code",
   "execution_count": 149,
   "id": "7974c488",
   "metadata": {},
   "outputs": [],
   "source": [
    "import requests\n",
    "from bs4 import BeautifulSoup\n"
   ]
  },
  {
   "cell_type": "code",
   "execution_count": 150,
   "id": "a83ed604",
   "metadata": {},
   "outputs": [],
   "source": [
    "url = \"https://www.primevideo.com/detail/0KIF0RIKEBJJANNU4HDOJ42WN5/ref=atv_dp_amz_c_Iw3Dma_1_1\"\n",
    "page = requests.get(url)\n",
    "soup = BeautifulSoup(page.content, \"html.parser\")"
   ]
  },
  {
   "cell_type": "code",
   "execution_count": 151,
   "id": "a93cec73",
   "metadata": {},
   "outputs": [],
   "source": [
    "title = soup.find('h1',{'data-automation-id':'title'}).text"
   ]
  },
  {
   "cell_type": "code",
   "execution_count": 152,
   "id": "5ae7184b",
   "metadata": {},
   "outputs": [],
   "source": [
    "disciption = soup.find('div',{'class':'_3qsVvm e8yjMf'}).text"
   ]
  },
  {
   "cell_type": "code",
   "execution_count": 153,
   "id": "65842f65",
   "metadata": {},
   "outputs": [],
   "source": [
    "Imdb_rating = soup.find('span',{'data-automation-id':'imdb-rating-badge'}).text"
   ]
  },
  {
   "cell_type": "code",
   "execution_count": 154,
   "id": "26091575",
   "metadata": {},
   "outputs": [],
   "source": [
    "geres = soup.find('div',{'data-testid':'genresMetadata'}).text"
   ]
  },
  {
   "cell_type": "code",
   "execution_count": 155,
   "id": "93cdd342",
   "metadata": {},
   "outputs": [],
   "source": [
    "Released_date = soup.find('span',{'data-automation-id':'release-year-badge'}).text"
   ]
  },
  {
   "cell_type": "code",
   "execution_count": 156,
   "id": "a2f65c86",
   "metadata": {},
   "outputs": [],
   "source": [
    "image = soup.find('div',{'data-automation-id':'hero-background'})"
   ]
  },
  {
   "cell_type": "code",
   "execution_count": 157,
   "id": "479fecde",
   "metadata": {},
   "outputs": [],
   "source": [
    "image_url = image.find('img',{'class':'u2YE+F Ah1hNY'})['src']"
   ]
  },
  {
   "cell_type": "code",
   "execution_count": 158,
   "id": "79673bcb",
   "metadata": {},
   "outputs": [],
   "source": [
    "video = soup.find('div',{'class':'_2Yly53 _2Jh193'})"
   ]
  },
  {
   "cell_type": "code",
   "execution_count": 160,
   "id": "81e60806",
   "metadata": {},
   "outputs": [
    {
     "data": {
      "text/plain": [
       "<div class=\"_2Yly53 _2Jh193\" data-added=\"false\" data-automation-id=\"watchlist-button\" data-testid=\"watchlist-button\" data-ux-click=\"true\"><button aria-label=\"Add to Watchlist\" class=\"_16hnQU\" role=\"button\" type=\"submit\"><svg aria-hidden=\"true\" class=\"_22qEau\" height=\"24\" role=\"img\" style=\"height:var(--dvui-icon-height);width:var(--dvui-icon-width)\" viewbox=\"0 0 24 24\" width=\"24\"><title>Add</title><svg height=\"24\" width=\"24\" xmlns=\"http://www.w3.org/2000/svg\"><title>Add</title><path d=\"M3 12h18m-9 9V3\" fill=\"none\" stroke=\"currentColor\" stroke-linecap=\"round\" stroke-width=\"2\"></path></svg></svg></button><label class=\"_2I-N3K\"><span class=\"_36qUej\">Watchlist</span></label></div>"
      ]
     },
     "execution_count": 160,
     "metadata": {},
     "output_type": "execute_result"
    }
   ],
   "source": [
    "video"
   ]
  },
  {
   "cell_type": "code",
   "execution_count": 159,
   "id": "bb3bd5db",
   "metadata": {},
   "outputs": [],
   "source": [
    "movie_page_url = url"
   ]
  },
  {
   "cell_type": "code",
   "execution_count": null,
   "id": "f29e328c",
   "metadata": {},
   "outputs": [],
   "source": []
  },
  {
   "cell_type": "code",
   "execution_count": null,
   "id": "7d46a169",
   "metadata": {},
   "outputs": [],
   "source": []
  },
  {
   "cell_type": "code",
   "execution_count": null,
   "id": "9fac906b",
   "metadata": {},
   "outputs": [],
   "source": []
  }
 ],
 "metadata": {
  "kernelspec": {
   "display_name": "Python 3 (ipykernel)",
   "language": "python",
   "name": "python3"
  },
  "language_info": {
   "codemirror_mode": {
    "name": "ipython",
    "version": 3
   },
   "file_extension": ".py",
   "mimetype": "text/x-python",
   "name": "python",
   "nbconvert_exporter": "python",
   "pygments_lexer": "ipython3",
   "version": "3.11.2"
  }
 },
 "nbformat": 4,
 "nbformat_minor": 5
}
